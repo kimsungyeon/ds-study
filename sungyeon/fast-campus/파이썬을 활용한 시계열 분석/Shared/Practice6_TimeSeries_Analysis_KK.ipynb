{
 "cells": [
  {
   "cell_type": "markdown",
   "metadata": {},
   "source": [
    "# Import Library: 분석에 사용할 모듈 설치\n",
    "**1. Import Library**"
   ]
  },
  {
   "cell_type": "code",
   "execution_count": null,
   "metadata": {
    "ExecuteTime": {
     "end_time": "2019-04-07T14:44:08.677151Z",
     "start_time": "2019-04-07T14:43:38.471056Z"
    }
   },
   "outputs": [],
   "source": [
    "!python -m pip install --user --upgrade pip\n",
    "!pip install pandas-datareader\n",
    "!pip install tqdm\n",
    "!pip install xgboost\n",
    "!pip install lightgbm"
   ]
  },
  {
   "cell_type": "code",
   "execution_count": null,
   "metadata": {
    "ExecuteTime": {
     "end_time": "2019-04-07T14:44:48.767009Z",
     "start_time": "2019-04-07T14:44:41.783297Z"
    }
   },
   "outputs": [],
   "source": [
    "# Auto reload\n",
    "%reload_ext autoreload\n",
    "%autoreload 2\n",
    "from module import *"
   ]
  },
  {
   "cell_type": "markdown",
   "metadata": {},
   "source": [
    "# Agile분석 결과확인"
   ]
  },
  {
   "cell_type": "code",
   "execution_count": null,
   "metadata": {
    "ExecuteTime": {
     "end_time": "2019-04-07T13:57:07.448879Z",
     "start_time": "2019-04-07T13:56:51.068212Z"
    },
    "scrolled": false
   },
   "outputs": [],
   "source": [
    "# Data Loading\n",
    "# location = 'https://raw.githubusercontent.com/cheonbi/DataScience/master/Data/Bike_Sharing_Demand_Full.csv'\n",
    "location = '../Data/Bike_Sharing_Demand_Full.csv'\n",
    "raw_all = pd.read_csv(location)\n",
    "\n",
    "# Feature Engineering\n",
    "raw_fe = feature_engineering(raw_all)\n",
    "### Reality ###\n",
    "target = ['count_trend', 'count_seasonal', 'count_Day', 'count_Week', 'count_diff']\n",
    "raw_feR = feature_engineering_year_duplicated(raw_fe, target)\n",
    "###############\n",
    "\n",
    "# Data Split\n",
    "# Confirm of input and output\n",
    "Y_colname = ['count']\n",
    "X_remove = ['datetime', 'DateTime', 'temp_group', 'casual', 'registered']\n",
    "X_colname = [x for x in raw_fe.columns if x not in Y_colname+X_remove]\n",
    "X_train_feR, X_test_feR, Y_train_feR, Y_test_feR = datasplit_ts(raw_feR, Y_colname, X_colname, '2012-07-01')\n",
    "### Reality ###\n",
    "target = ['count_lag1', 'count_lag2']\n",
    "X_test_feR = feature_engineering_lag_modified(Y_test_feR, X_test_feR, target)\n",
    "###############\n",
    "### Scaling ###\n",
    "X_train_feRS, X_test_feRS = feature_engineering_scaling(preprocessing.Normalizer(), X_train_feR, X_test_feR)\n",
    "###############\n",
    "### Multicollinearity ###\n",
    "print('Number_of_Total_X: ', len(X_train_feRS.columns))\n",
    "X_colname_vif = feature_engineering_XbyVIF(X_train_feRS, 12)\n",
    "print('Number_of_Selected_X: ', len(X_colname_vif))\n",
    "X_train_feRSM, X_test_feRSM = X_train_feRS[X_colname_vif].copy(), X_test_feRS[X_colname_vif].copy()\n",
    "#########################\n",
    "\n",
    "# Applying Agile Model\n",
    "# RandomForestRegressor\n",
    "fit_reg6 = RandomForestRegressor(n_estimators=100, random_state=123).fit(X_train_feRSM, Y_train_feR)\n",
    "pred_tr_reg6_feRSM = fit_reg6.predict(X_train_feRSM)\n",
    "pred_te_reg6_feRSM = fit_reg6.predict(X_test_feRSM)\n",
    "\n",
    "# Prediction Effect of Variables\n",
    "Variable_Importances = pd.DataFrame([fit_reg6.feature_importances_], \n",
    "                                    columns=X_train_feRSM.columns, \n",
    "                                    index=['importance']).T.sort_values(by=['importance'], ascending=False)\n",
    "Variable_Importances.plot.bar(figsize=(12,6), fontsize=15)\n",
    "plt.title('Variable Importances', fontsize=15)\n",
    "plt.grid()\n",
    "plt.show()\n",
    "\n",
    "# Evaluation\n",
    "Score_reg6_feRSM, Resid_tr_reg6_feRSM, Resid_te_reg6_feRSM = evaluation_trte(Y_train_feR, pred_tr_reg6_feRSM,\n",
    "                                                                   Y_test_feR, pred_te_reg6_feRSM, graph_on=False)\n",
    "display(Score_reg6_feRSM)\n",
    "\n",
    "# Error Analysis\n",
    "error_analysis(Resid_tr_reg6_feRSM, ['Error'], X_train_feRSM, graph_on=True)"
   ]
  },
  {
   "cell_type": "markdown",
   "metadata": {},
   "source": [
    "# Applying Time Series Model: Y예측을 위한 TS분석 실행"
   ]
  },
  {
   "cell_type": "code",
   "execution_count": null,
   "metadata": {
    "ExecuteTime": {
     "end_time": "2019-04-07T13:57:15.644212Z",
     "start_time": "2019-04-07T13:57:14.060727Z"
    }
   },
   "outputs": [],
   "source": [
    "## 정상성 테스트 및 모수추론(p=1, q=1, d=0, P=1, Q=1, D(m)=12)\n",
    "result = pd.Series(sm.tsa.stattools.adfuller(Y_train_feR.values.flatten())[0:4],\n",
    "                   index=['Test Statistics', 'p-value', 'Used Lag', 'Used Observations'])\n",
    "display(result)\n",
    "\n",
    "plt.figure(figsize=(14,4))\n",
    "sm.tsa.graphics.plot_acf(Y_train_feR, lags=100, alpha=0.05, use_vlines=True, ax=plt.subplot(121))\n",
    "sm.tsa.graphics.plot_pacf(Y_train_feR, lags=100, alpha=0.05, use_vlines=True, ax=plt.subplot(122))\n",
    "plt.tight_layout()\n",
    "plt.show()"
   ]
  },
  {
   "cell_type": "markdown",
   "metadata": {},
   "source": [
    "## 수요예측 SARIMA 모델링"
   ]
  },
  {
   "cell_type": "code",
   "execution_count": null,
   "metadata": {
    "ExecuteTime": {
     "end_time": "2019-04-07T13:57:43.299213Z",
     "start_time": "2019-04-07T13:57:19.158068Z"
    },
    "scrolled": false
   },
   "outputs": [],
   "source": [
    "# 모델링\n",
    "## SARIMA\n",
    "logarithm, differencing = False, False\n",
    "trend_diff_order, seasonal_diff_order = 0, 12\n",
    "fit_ts_sarimax = sm.tsa.SARIMAX(Y_train_feR, trend='c', order=(1,trend_diff_order,1), \n",
    "                                seasonal_order=(1,0,1,seasonal_diff_order)).fit()\n",
    "display(fit_ts_sarimax.summary())\n",
    "pred_tr_ts_sarimax = fit_ts_sarimax.predict()\n",
    "pred_te_ts_sarimax = fit_ts_sarimax.get_forecast(len(Y_test_feR)).predicted_mean\n",
    "pred_te_ts_sarimax_ci = fit_ts_sarimax.get_forecast(len(Y_test_feR)).conf_int()\n",
    "## 비정상성으로 변환\n",
    "if logarithm:\n",
    "    Y_train = np.exp(Y_train_feR).copy()\n",
    "    Y_test = np.exp(Y_test_feR).copy()\n",
    "    pred_tr_ts_sarimax = np.exp(pred_tr_ts_sarimax).copy()\n",
    "    pred_te_ts_sarimax = np.exp(pred_te_ts_sarimax).copy()\n",
    "    pred_te_ts_sarimax_ci = np.exp(pred_te_ts_sarimax_ci).copy()\n",
    "if differencing:\n",
    "    pred_tr_ts_sarimax = np.cumsum(pred_tr_ts_sarimax).copy()\n",
    "    \n",
    "# 검증\n",
    "Score_ts_sarimax, Resid_tr_ts_sarimax, Resid_te_ts_sarimax = evaluation_trte(Y_train_feR, pred_tr_ts_sarimax, \n",
    "                                                                             Y_test_feR, pred_te_ts_sarimax, graph_on=True)\n",
    "display(Score_ts_sarimax)\n",
    "ax = pd.DataFrame(Y_test_feR).plot(figsize=(12,4))\n",
    "pd.DataFrame(pred_te_ts_sarimax, index=Y_test_feR.index, columns=['prediction']).plot(kind='line',\n",
    "                                                                           xlim=(Y_test_feR.index.min(),Y_test_feR.index.max()),\n",
    "                                                                           linewidth=3, fontsize=20, ax=ax)\n",
    "ax.fill_between(pd.DataFrame(pred_te_ts_sarimax_ci, index=Y_test_feR.index).index,\n",
    "                pd.DataFrame(pred_te_ts_sarimax_ci, index=Y_test_feR.index).iloc[:,0],\n",
    "                pd.DataFrame(pred_te_ts_sarimax_ci, index=Y_test_feR.index).iloc[:,1], color='k', alpha=0.15)\n",
    "plt.show()\n",
    "\n",
    "# 잔차진단\n",
    "error_analysis(Resid_tr_ts_sarimax, ['Error'], Y_train_feR, graph_on=True)"
   ]
  },
  {
   "cell_type": "markdown",
   "metadata": {},
   "source": [
    "## 수요예측 SARIMAX 모델링"
   ]
  },
  {
   "cell_type": "code",
   "execution_count": null,
   "metadata": {
    "ExecuteTime": {
     "end_time": "2019-04-07T14:10:18.744361Z",
     "start_time": "2019-04-07T14:08:46.171487Z"
    },
    "scrolled": false
   },
   "outputs": [],
   "source": [
    "# 모델링\n",
    "## SARIMAX\n",
    "logarithm, differencing = False, False\n",
    "trend_diff_order, seasonal_diff_order = 0, 12\n",
    "exog_tr = X_train_feRSM[['count_seasonal', 'weather', 'count_lag2', 'count_diff', 'Quater_ver2', 'Hour', 'workingday', 'DayofWeek']]\n",
    "exog_te = X_test_feRSM[['count_seasonal', 'weather', 'count_lag2', 'count_diff', 'Quater_ver2', 'Hour', 'workingday', 'DayofWeek']]                             \n",
    "fit_ts_sarimax = sm.tsa.SARIMAX(Y_train_feR, trend='c', order=(1,trend_diff_order,1), \n",
    "                                seasonal_order=(1,0,1,seasonal_diff_order), exog=exog_tr).fit()\n",
    "display(fit_ts_sarimax.summary())\n",
    "pred_tr_ts_sarimax = fit_ts_sarimax.predict()\n",
    "pred_te_ts_sarimax = fit_ts_sarimax.get_forecast(len(Y_test_feR), exog=exog_te).predicted_mean\n",
    "pred_te_ts_sarimax_ci = fit_ts_sarimax.get_forecast(len(Y_test_feR), exog=exog_te).conf_int()\n",
    "## 비정상성으로 변환\n",
    "if logarithm:\n",
    "    Y_train = np.exp(Y_train_feR).copy()\n",
    "    Y_test = np.exp(Y_test_feR).copy()\n",
    "    pred_tr_ts_sarimax = np.exp(pred_tr_ts_sarimax).copy()\n",
    "    pred_te_ts_sarimax = np.exp(pred_te_ts_sarimax).copy()\n",
    "    pred_te_ts_sarimax_ci = np.exp(pred_te_ts_sarimax_ci).copy()\n",
    "if differencing:\n",
    "    pred_tr_ts_sarimax = np.cumsum(pred_tr_ts_sarimax).copy()\n",
    "    \n",
    "# 검증\n",
    "Score_ts_sarimax, Resid_tr_ts_sarimax, Resid_te_ts_sarimax = evaluation_trte(Y_train_feR, pred_tr_ts_sarimax, \n",
    "                                                                             Y_test_feR, pred_te_ts_sarimax, graph_on=True)\n",
    "display(Score_ts_sarimax)\n",
    "ax = pd.DataFrame(Y_test_feR).plot(figsize=(12,4))\n",
    "pd.DataFrame(pred_te_ts_sarimax, index=Y_test_feR.index, columns=['prediction']).plot(kind='line',\n",
    "                                                                           xlim=(Y_test_feR.index.min(),Y_test_feR.index.max()),\n",
    "                                                                           linewidth=3, fontsize=20, ax=ax)\n",
    "ax.fill_between(pd.DataFrame(pred_te_ts_sarimax_ci, index=Y_test_feR.index).index,\n",
    "                pd.DataFrame(pred_te_ts_sarimax_ci, index=Y_test_feR.index).iloc[:,0],\n",
    "                pd.DataFrame(pred_te_ts_sarimax_ci, index=Y_test_feR.index).iloc[:,1], color='k', alpha=0.15)\n",
    "plt.show()\n",
    "\n",
    "# 잔차진단\n",
    "error_analysis(Resid_tr_ts_sarimax, ['Error'], Y_train_feR, graph_on=True)"
   ]
  },
  {
   "cell_type": "markdown",
   "metadata": {},
   "source": [
    "## 수요예측 Auto-SARIMAX 모델링"
   ]
  },
  {
   "cell_type": "code",
   "execution_count": null,
   "metadata": {},
   "outputs": [],
   "source": [
    "# 모델링\n",
    "## Parameter Setting\n",
    "p, q = range(1,3), range(1,3)\n",
    "d = range(0,1)\n",
    "P, Q = range(1,3), range(1,3)\n",
    "D = range(1,2)\n",
    "m = 12\n",
    "trend_pdq = list(product(p, d, q))\n",
    "seasonal_pdq = [(candi[0], candi[1], candi[2], m) for candi in list(product(P, D, Q))]\n",
    "## Auto-SARIMAX\n",
    "logarithm, differencing = False, False\n",
    "trend_diff_order, seasonal_diff_order = 0, 12\n",
    "exog_tr = X_train_feRSM[['count_seasonal', 'weather', 'count_lag2', 'count_diff', 'Quater_ver2', 'Hour', 'workingday', 'DayofWeek']]\n",
    "exog_te = X_test_feRSM[['count_seasonal', 'weather', 'count_lag2', 'count_diff', 'Quater_ver2', 'Hour', 'workingday', 'DayofWeek']]                             \n",
    "AIC = []\n",
    "SARIMAX_order = []\n",
    "for trend_param in tqdm(trend_pdq):\n",
    "    for seasonal_params in seasonal_pdq:\n",
    "        try:\n",
    "            result =sm.tsa.SARIMAX(Y_train_feR, trend='c', \n",
    "                                   order=trend_param, seasonal_order=seasonal_params, exog=exog_tr).fit()\n",
    "            print('Fit SARIMAX: trend_order={} seasonal_order={} AIC={}, BIC={}'.format(trend_param, seasonal_params, result.aic, result.bic, end='\\r'))\n",
    "            AIC.append(result.aic)\n",
    "            SARIMAX_order.append([trend_param, seasonal_params])\n",
    "        except:\n",
    "            continue\n",
    "## Parameter Selection\n",
    "print('The smallest AIC is {} for model SARIMAX{}x{}'.format(min(AIC), SARIMAX_order[AIC.index(min(AIC))][0],\n",
    "                                                             SARIMAX_order[AIC.index(min(AIC))][1]))\n",
    "## Auto-SARIMAX Fitting\n",
    "fit_ts_sarimax = sm.tsa.SARIMAX(Y_train_feR, trend='c', order=SARIMAX_order[AIC.index(min(AIC))][0], \n",
    "                                seasonal_order=SARIMAX_order[AIC.index(min(AIC))][1], exog=exog_tr).fit()\n",
    "display(fit_ts_sarimax.summary())\n",
    "pred_tr_ts_sarimax = fit_ts_sarimax.predict()\n",
    "pred_te_ts_sarimax = fit_ts_sarimax.get_forecast(len(Y_test_feR), exog=exog_te).predicted_mean\n",
    "pred_te_ts_sarimax_ci = fit_ts_sarimax.get_forecast(len(Y_test_feR), exog=exog_te).conf_int()\n",
    "## 비정상성으로 변환\n",
    "if logarithm:\n",
    "    Y_train = np.exp(Y_train_feR).copy()\n",
    "    Y_test = np.exp(Y_test_feR).copy()\n",
    "    pred_tr_ts_sarimax = np.exp(pred_tr_ts_sarimax).copy()\n",
    "    pred_te_ts_sarimax = np.exp(pred_te_ts_sarimax).copy()\n",
    "    pred_te_ts_sarimax_ci = np.exp(pred_te_ts_sarimax_ci).copy()\n",
    "if differencing:\n",
    "    pred_tr_ts_sarimax = np.cumsum(pred_tr_ts_sarimax).copy()\n",
    "\n",
    "# 검증\n",
    "Score_ts_sarimax, Resid_tr_ts_sarimax, Resid_te_ts_sarimax = evaluation_trte(Y_train_feR, pred_tr_ts_sarimax, \n",
    "                                                                             Y_test_feR, pred_te_ts_sarimax, graph_on=True)\n",
    "display(Score_ts_sarimax)\n",
    "ax = pd.DataFrame(Y_test_feR).plot(figsize=(12,4))\n",
    "pd.DataFrame(pred_te_ts_sarimax, index=Y_test_feR.index, columns=['prediction']).plot(kind='line',\n",
    "                                                                           xlim=(Y_test_feR.index.min(),Y_test_feR.index.max()),\n",
    "                                                                           linewidth=3, fontsize=20, ax=ax)\n",
    "ax.fill_between(pd.DataFrame(pred_te_ts_sarimax_ci, index=Y_test_feR.index).index,\n",
    "                pd.DataFrame(pred_te_ts_sarimax_ci, index=Y_test_feR.index).iloc[:,0],\n",
    "                pd.DataFrame(pred_te_ts_sarimax_ci, index=Y_test_feR.index).iloc[:,1], color='k', alpha=0.15)\n",
    "plt.show()\n",
    "\n",
    "# 잔차진단\n",
    "error_analysis(Resid_tr_ts_sarimax, ['Error'], Y_train_feR, graph_on=True)"
   ]
  },
  {
   "cell_type": "markdown",
   "metadata": {},
   "source": [
    "## 수요예측 Auto-ARIMA 모델링"
   ]
  },
  {
   "cell_type": "code",
   "execution_count": null,
   "metadata": {
    "ExecuteTime": {
     "end_time": "2019-04-07T14:02:12.967452Z",
     "start_time": "2019-04-07T14:01:04.948587Z"
    },
    "code_folding": [],
    "scrolled": false
   },
   "outputs": [],
   "source": [
    "# # 모델링\n",
    "# ## Auto-ARIMA\n",
    "# logarithm, differencing = False, False\n",
    "# trend_diff_order, seasonal_diff_order = 0, 12\n",
    "# exog_tr = X_train_feRSM[['count_seasonal', 'weather', 'count_lag2', 'count_diff', 'Quater_ver2', 'Hour', 'workingday', 'DayofWeek']]\n",
    "# exog_te = X_test_feRSM[['count_seasonal', 'weather', 'count_lag2', 'count_diff', 'Quater_ver2', 'Hour', 'workingday', 'DayofWeek']]                             \n",
    "# fit_ts_autoarima = auto_arima(Y_train_feR, exogenous=exog_tr, stationary=False,\n",
    "#                               trend='c', start_p=0, start_q=0, max_p=2, max_q=2, max_d=1,\n",
    "#                               seasonal=True, start_P=0, start_Q=0, max_P=1, max_Q=1, m=seasonal_diff_order,\n",
    "#                               stepwise=True, trace=True)\n",
    "# display(fit_ts_autoarima.summary())\n",
    "# pred_tr_ts_autoarima = fit_ts_autoarima.predict_in_sample(exogenous=exog_tr)\n",
    "# pred_te_ts_autoarima = fit_ts_autoarima.predict(len(Y_test_feR), exogenous=exog_te, return_conf_int=True)[0]\n",
    "# pred_te_ts_autoarima_ci = fit_ts_autoarima.predict(len(Y_test_feR), exogenous=exog_te, return_conf_int=True)[1]\n",
    "# ## 비정상성으로 변환\n",
    "# if logarithm:\n",
    "#     Y_train = np.exp(Y_train).copy()\n",
    "#     Y_test = np.exp(Y_test).copy()\n",
    "#     pred_tr_ts_autoarima = np.exp(pred_tr_ts_autoarima).copy()\n",
    "#     pred_te_ts_autoarima = np.exp(pred_te_ts_autoarima).copy()\n",
    "#     pred_te_ts_autoarima_ci = np.exp(pred_te_ts_autoarima_ci).copy()\n",
    "# if differencing:\n",
    "#     pred_tr_ts_autoarima = np.cumsum(pred_tr_ts_autoarima).copy()\n",
    "    \n",
    "# # 검증\n",
    "# Score_ts_autoarima, Resid_tr_ts_autoarima, Resid_te_ts_autoarima = evaluation_trte(Y_train_feR, pred_tr_ts_autoarima, \n",
    "#                                                                              Y_test_feR, pred_te_ts_autoarima, graph_on=True)\n",
    "# display(Score_ts_autoarima)\n",
    "# ax = pd.DataFrame(Y_test_feR).plot(figsize=(12,4))\n",
    "# pd.DataFrame(pred_te_ts_autoarima, index=Y_test_feR.index, columns=['prediction']).plot(kind='line',\n",
    "#                                                                            xlim=(Y_test_feR.index.min(),Y_test_feR.index.max()),\n",
    "#                                                                            linewidth=3, fontsize=20, ax=ax)\n",
    "# ax.fill_between(pd.DataFrame(pred_te_ts_autoarima_ci, index=Y_test_feR.index).index,\n",
    "#                 pd.DataFrame(pred_te_ts_autoarima_ci, index=Y_test_feR.index).iloc[:,0],\n",
    "#                 pd.DataFrame(pred_te_ts_autoarima_ci, index=Y_test_feR.index).iloc[:,1], color='k', alpha=0.15)\n",
    "# plt.show()\n",
    "\n",
    "# # 잔차진단\n",
    "# error_analysis(Resid_tr_ts_autoarima, ['Error'], Y_train_feR, graph_on=True)\n"
   ]
  }
 ],
 "metadata": {
  "hide_input": false,
  "kernelspec": {
   "display_name": "Python 3",
   "language": "python",
   "name": "python3"
  },
  "language_info": {
   "codemirror_mode": {
    "name": "ipython",
    "version": 3
   },
   "file_extension": ".py",
   "mimetype": "text/x-python",
   "name": "python",
   "nbconvert_exporter": "python",
   "pygments_lexer": "ipython3",
   "version": "3.7.3"
  },
  "toc": {
   "base_numbering": 1,
   "nav_menu": {},
   "number_sections": true,
   "sideBar": true,
   "skip_h1_title": false,
   "title_cell": "Table of Contents",
   "title_sidebar": "Contents",
   "toc_cell": false,
   "toc_position": {
    "height": "calc(100% - 180px)",
    "left": "10px",
    "top": "150px",
    "width": "256px"
   },
   "toc_section_display": true,
   "toc_window_display": true
  },
  "toc-autonumbering": true,
  "varInspector": {
   "cols": {
    "lenName": 16,
    "lenType": 16,
    "lenVar": 40
   },
   "kernels_config": {
    "python": {
     "delete_cmd_postfix": "",
     "delete_cmd_prefix": "del ",
     "library": "var_list.py",
     "varRefreshCmd": "print(var_dic_list())"
    },
    "r": {
     "delete_cmd_postfix": ") ",
     "delete_cmd_prefix": "rm(",
     "library": "var_list.r",
     "varRefreshCmd": "cat(var_dic_list()) "
    }
   },
   "types_to_exclude": [
    "module",
    "function",
    "builtin_function_or_method",
    "instance",
    "_Feature"
   ],
   "window_display": false
  }
 },
 "nbformat": 4,
 "nbformat_minor": 2
}
