{
 "cells": [
  {
   "cell_type": "markdown",
   "metadata": {},
   "source": [
    "# **Installation of Anaconda**  \n",
    ": https://www.anaconda.com/download/ (Updated)  \n",
    ": https://repo.anaconda.com/archive/ (for Python 3.6: Anaconda3-5.2.0-Windows-x86_64.exe)"
   ]
  },
  {
   "cell_type": "markdown",
   "metadata": {},
   "source": [
    "# **Update of PIP**  \n",
    "1) Execution of \"Anaconda Prompt\" by Administratior  \n",
    "2) pip install --upgrade pip  \n",
    "or  \n",
    "2) python -m pip install --user --upgrade pip  \n",
    "or  \n",
    "2) C:\\ProgramData\\Anaconda3\\python.exe -m pip install --upgrade pip **(don't need for using Python 3.6)**  "
   ]
  },
  {
   "cell_type": "markdown",
   "metadata": {},
   "source": [
    "# **(Optional) Installation of Jupyter Notebook Default**  \n",
    "1) Execute the file(icon) of \"Jupyter Notebook\"  \n",
    "2) http://localhost:8888/tree"
   ]
  },
  {
   "cell_type": "markdown",
   "metadata": {},
   "source": [
    "# **(Optional) Installation of Jupyter Nbextensions**\n",
    "1) Execution of \"Anaconda Prompt\" by Administratior  \n",
    "2) pip install jupyter_contrib_nbextensions  \n",
    "3) jupyter contrib nbextension install --user  \n",
    "4) select extentions from the tap \"Nbextensions\" of Jupyter Notebook  \n",
    "- Autopep8\n",
    "- Codefolding\n",
    "- Collapsible Headings\n",
    "- Hide Input All\n",
    "- Execute Time\n",
    "- Table of Contents\n",
    "- Variable Inspector  \n",
    "5) Execute the file(icon) of \"Jupyter Notebook\"  \n",
    "6) http://localhost:8888/tree"
   ]
  },
  {
   "cell_type": "markdown",
   "metadata": {},
   "source": [
    "# **(Optional) Installation of Jupyter Lab**  \n",
    "1) Execution of \"Anaconda Prompt\" by Administratior  \n",
    "2) pip install jupyterlab  \n",
    "and  \n",
    "2) pip install --upgrade jupyterlab  \n",
    "3) conda install --yes nodejs  \n",
    "4) jupyter labextension install @jupyterlab/toc  \n",
    "5) Execute the file(icon) of \"Jupyter Notebook\"  \n",
    "6) http://localhost:8888/lab"
   ]
  },
  {
   "cell_type": "markdown",
   "metadata": {},
   "source": [
    "# **(Optional) Change Start Location of Jupyter Lab**  \n",
    "1) Right Click the Icon of \"Jupyter Notebook\"  \n",
    "2) Input the target location (ex. X:\\\\) to the end of \"대상\" and to the \"시작 위치\"  "
   ]
  }
 ],
 "metadata": {
  "hide_input": false,
  "kernelspec": {
   "display_name": "Python 3",
   "language": "python",
   "name": "python3"
  },
  "language_info": {
   "codemirror_mode": {
    "name": "ipython",
    "version": 3
   },
   "file_extension": ".py",
   "mimetype": "text/x-python",
   "name": "python",
   "nbconvert_exporter": "python",
   "pygments_lexer": "ipython3",
   "version": "3.6.5"
  },
  "toc": {
   "base_numbering": 1,
   "nav_menu": {},
   "number_sections": true,
   "sideBar": true,
   "skip_h1_title": false,
   "title_cell": "Table of Contents",
   "title_sidebar": "Contents",
   "toc_cell": false,
   "toc_position": {
    "height": "calc(100% - 180px)",
    "left": "10px",
    "top": "150px",
    "width": "371px"
   },
   "toc_section_display": true,
   "toc_window_display": true
  },
  "varInspector": {
   "cols": {
    "lenName": 16,
    "lenType": 16,
    "lenVar": 40
   },
   "kernels_config": {
    "python": {
     "delete_cmd_postfix": "",
     "delete_cmd_prefix": "del ",
     "library": "var_list.py",
     "varRefreshCmd": "print(var_dic_list())"
    },
    "r": {
     "delete_cmd_postfix": ") ",
     "delete_cmd_prefix": "rm(",
     "library": "var_list.r",
     "varRefreshCmd": "cat(var_dic_list()) "
    }
   },
   "types_to_exclude": [
    "module",
    "function",
    "builtin_function_or_method",
    "instance",
    "_Feature"
   ],
   "window_display": false
  }
 },
 "nbformat": 4,
 "nbformat_minor": 2
}
