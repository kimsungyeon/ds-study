{
 "cells": [
  {
   "cell_type": "markdown",
   "metadata": {
    "ExecuteTime": {
     "end_time": "2019-07-18T15:23:01.600185Z",
     "start_time": "2019-07-18T15:23:01.592541Z"
    }
   },
   "source": [
    "**Table of Contents**\n",
    "\n",
    "1. [기술통계학](#기술통계학)\n",
    "> 1. [여러 가지 평균](#여러가지평균)\n",
    "> 2. [분위수와 분산(데이터의분산)](#분위수와분산)\n",
    "> 3. [변동 계수(데이터의분산)](#변동계수)\n",
    "> 4. [상관 계수(변수의관련성)](#상관계수)\n",
    "> 5. [순위 상관(변수의관련성)](#순위상관)\n",
    "\n",
    "2. [확률 분포](#확률분포)\n",
    "> 1. [확률과 확률분포](#확률과확률분포)\n",
    "> 2. [균일 분포(확률이 같은 분포)](#균일분포)\n",
    "> 3. [이항 분포(동전 던지기의 분포)](#이항분포)\n",
    "> 4. [정규 분포(종 모양의 분포)](#정규분포)\n",
    "> 5. [표준정규 분포(척도가 없는 분포)](#표준정규분포)\n",
    "> 6. [시그마 구간(데이터의 위치를 알 수 있다)](#시그마구간)"
   ]
  },
  {
   "cell_type": "markdown",
   "metadata": {
    "ExecuteTime": {
     "end_time": "2019-07-18T15:39:43.202816Z",
     "start_time": "2019-07-18T15:39:43.197812Z"
    },
    "heading_collapsed": true
   },
   "source": [
    "# 기술통계학"
   ]
  },
  {
   "cell_type": "markdown",
   "metadata": {
    "ExecuteTime": {
     "end_time": "2019-07-18T15:46:04.517746Z",
     "start_time": "2019-07-18T15:46:04.512705Z"
    },
    "hidden": true
   },
   "source": [
    "## 여러가지평균"
   ]
  },
  {
   "cell_type": "markdown",
   "metadata": {
    "ExecuteTime": {
     "end_time": "2019-07-18T15:46:04.904995Z",
     "start_time": "2019-07-18T15:46:04.902204Z"
    },
    "hidden": true
   },
   "source": [
    "## 분위수와분산"
   ]
  },
  {
   "cell_type": "markdown",
   "metadata": {
    "hidden": true
   },
   "source": [
    "## 변동계수"
   ]
  },
  {
   "cell_type": "markdown",
   "metadata": {
    "hidden": true
   },
   "source": [
    "## 상관계수"
   ]
  },
  {
   "cell_type": "markdown",
   "metadata": {
    "hidden": true
   },
   "source": [
    "## 순위상관"
   ]
  },
  {
   "cell_type": "markdown",
   "metadata": {
    "ExecuteTime": {
     "end_time": "2019-07-18T06:09:46.387438Z",
     "start_time": "2019-07-18T06:09:46.382510Z"
    }
   },
   "source": [
    "# 확률분포"
   ]
  },
  {
   "cell_type": "markdown",
   "metadata": {
    "ExecuteTime": {
     "end_time": "2019-07-18T15:40:04.436628Z",
     "start_time": "2019-07-18T15:40:04.430566Z"
    }
   },
   "source": [
    "## 확률과확률분포"
   ]
  },
  {
   "cell_type": "markdown",
   "metadata": {
    "ExecuteTime": {
     "end_time": "2019-07-18T06:15:58.946176Z",
     "start_time": "2019-07-18T06:15:58.943776Z"
    }
   },
   "source": [
    "## 균일분포"
   ]
  },
  {
   "cell_type": "markdown",
   "metadata": {},
   "source": [
    "## 이항분포"
   ]
  },
  {
   "cell_type": "markdown",
   "metadata": {},
   "source": [
    "## 정규분포"
   ]
  },
  {
   "cell_type": "markdown",
   "metadata": {},
   "source": [
    "## 표준정규분포\n",
    "* **표준정규분포란?** :  **평균을 0**, **분산을 1**로 표준화한 데이터(**표준화변량 z**)의 정규분포를 말한다. **z 분포**라고도 한다.\n",
    "\n",
    "> 평균, 분산, 표준편차 등이 단위를 취하는 형태에 따라 그 결과값이 크게 달라지므로, 편차를 표준편차로 나누어, 표준화/정규화 변환시키는 것\n",
    "     \n",
    "> 평균이 0이고, 표준 편차(분산)가 1인 정규분포 $$N(0,1^2)$$"
   ]
  },
  {
   "cell_type": "markdown",
   "metadata": {
    "ExecuteTime": {
     "end_time": "2019-07-18T23:38:11.792184Z",
     "start_time": "2019-07-18T23:38:11.788421Z"
    }
   },
   "source": [
    "* **표준화란**? 데이터의 평균값을 0으로, 표준편차(분산)를 1로 변환하는 것\n",
    "\n",
    "> * 변환한 데이터를 **표준화변량**이라고 한다\n",
    "> - 표준화한 정규분포는 표준정규분포(z 분포)라고 한다.\n",
    "> * **척도(단위)를 의식하지 않고 사용할 수 있다.** "
   ]
  },
  {
   "cell_type": "markdown",
   "metadata": {},
   "source": [
    " - **표준화변량 z** : (변수값-평균값) / 표준편차로 변환한 확률 변수로 z로 나타낸다. 표준화변량의 평균은 0, 분산은 1이된다.\n",
    " - **단위에 영향을 받지 않고 변수 간의 비교를 할 수 있다.**\n",
    " \n",
    ">  $$Z_i= {X_i - μ \\over σ }$$\n",
    "> z: 표준화변량, X : 변량, μ : 평균 또는 기대값 , σ : 표준편차\n",
    "\n",
    "> $$표준화 변량 = {변수값 - 평균값 \\over 표준편차 }$$"
   ]
  },
  {
   "cell_type": "markdown",
   "metadata": {},
   "source": [
    " - 표준화변량의 최대치와, 최저치는 존재 X\n",
    "\n",
    "\n",
    "> 일반적으로 **-3 ~ 3 (평균 0, 표준편차 1)** <br> 평균이하는 **음수**로 표현되며, **소수점**이 길어진다.\n"
   ]
  },
  {
   "cell_type": "markdown",
   "metadata": {},
   "source": [
    "* 예제\n",
    "\n",
    "> <code>어느 해 한국, 미국, 일본의 대졸 신입 사원의 월급은 평균이 각각 80만원, 2000달러, 18만엔이고, 표준편차가 각각 10만원, 300달러, 2만 5천엔인 정규분포를 따른다고 한다. 위 3개국에서 임의로 한 명씩 뽑힌 대졸 신입사원A, B, C의 월급이 각각 94만원, 2250달러, 21만엔이라 할 때, 각각 자국 내에서 상대적으로 월급을 많이 받는 사람부터 순서대로 나열하여라.</code>\n",
    "\n",
    ">> 전형적인 표준화의 문제이다. 문제에서 물어보는 것은 환율을 감안한 절대적인 봉급크기가 아닌 자국내 평균임금을 기준으로 한 상대적인 봉급 크기이기 때문이다. 한국, 미국, 일본의 대졸 신입사원의 월급을 표준화변수로 나타내면 각각 \n",
    "\n",
    ">> $$ 한국 = {94 - 80 \\over 10} = {1.4} $$\n",
    "\n",
    ">> $$ 미국 = {2250 - 2000 \\over 300} =  {0.83333} $$\n",
    "\n",
    ">> $$ 일본 = {21 - 18 \\over 2.5} =  {1.2} $$\n",
    "\n",
    ">> 이므로, 한국 > 일본 > 미국 신입사원순으로 상대적인 월급이 크다."
   ]
  },
  {
   "cell_type": "markdown",
   "metadata": {
    "ExecuteTime": {
     "end_time": "2019-07-18T16:59:51.373835Z",
     "start_time": "2019-07-18T16:59:51.366046Z"
    }
   },
   "source": [
    "* 표준점수 (**전형적인 상대평가**)\n",
    "\n",
    "> 표준점수의 가장 대표적인 것으로는 **Z점수**와 **T점수**가 있다. Z점수는 평균으로부터의 편차점수를 표준편차로 나누어 얻어진 점수로 평균이 「0」, 표준편차 「1」인 점수척도로 전환된다. 이에 대하여 T점수는 평균을 50, 표준편차 10의 단위로 그 척도를 나타낸 것이다."
   ]
  },
  {
   "cell_type": "markdown",
   "metadata": {},
   "source": [
    "* 예제 (Z점수)\n",
    "\n",
    "> 수학 시험 = **점수 50**, 평균 30, 표준편차 8<br>\n",
    "> 영어 시험 = **점수 90**, 평균 80, 표준편차 6"
   ]
  },
  {
   "cell_type": "markdown",
   "metadata": {},
   "source": [
    "> $$ Z 수학 시험 = {50 - 30 \\over 8} = {2.50} $$\n",
    "> $$ Z 영어 시험 = {90 - 80 \\over 6} = {1.67} $$"
   ]
  },
  {
   "cell_type": "markdown",
   "metadata": {},
   "source": [
    "> 표준화변량의 단점을 극복하기 위한 것중에 유명한것이 **T 점수**\n",
    "\n",
    "> T 점수는 **평균을 50**, **표준 편차를 10**으로 설정\n",
    "> $$(표준점수) T_i = 50 + 10 * ({X_i - μ \\over σ })$$"
   ]
  },
  {
   "cell_type": "markdown",
   "metadata": {},
   "source": [
    "> $$ T 수학시험 = 50 + 10 * (2.50) = {75.0} $$\n",
    "> $$ T 영어 시험 = 50 + 10 * (1.67) = {66.7} $$"
   ]
  },
  {
   "cell_type": "markdown",
   "metadata": {},
   "source": [
    "## 시그마구간\n",
    "\n",
    "> 표준화 하면 **데이터가 표준정규분포의 어디에 있는지 대략적인 위치**를 알 수 있다.<br><br>\n",
    "> z의 값이 **3σ 구간 밖(-3보다 작거나 3보다 크다)**에 있을 때, 그 데이터는 정규분포에서는 잘 일어나지 않는 수이다. <br>따라서 **이상치**일 가능성이 있다는 것을 보여준다."
   ]
  },
  {
   "cell_type": "markdown",
   "metadata": {},
   "source": [
    "> 통계학에서 68-95-99.7 규칙은 정규 분포를 나타내는 규칙으로, 경험적인 규칙(empirical rule)이라고도 한다. 3시그마 규칙(three-sigma rule)이라고도 하는데 이 때는 평균에서 양쪽으로 3표준편차의 범위에 거의 모든 값들(99.7%)이 들어간다는 것을 나타낸다. \n",
    "\n",
    "\n",
    "<img src='image/svg.png' width='600'>\n",
    "\n",
    "> - 약 68%의 값들이 평균에서 양쪽으로 1 표준편차 범위(μ±σ)에 존재한다.\n",
    "> - 약 95%의 값들이 평균에서 양쪽으로 2 표준편차 범위(μ±2σ)에 존재한다.\n",
    "> - 거의 모든 값들(실제로는 99.7%)이 평균에서 양쪽으로 3표준편차 범위(μ±3σ)에 존재한다."
   ]
  },
  {
   "cell_type": "markdown",
   "metadata": {},
   "source": [
    "* 6시그마 = 0.0000032\n",
    "\n",
    "> 6σ 구간의 밖, 즉 100만분의 3.4 수준으로 실수 또는 불량품의 발생 활률을 줄이려는 활동을 말한다. \n",
    "\n",
    "> 6 시그마(6σ)는 기업에서 전략적으로 완벽에 가까운 제품이나 서비스를 개발하고 제공하려는 목적으로 정립된 품질경영 기법 또는 철학으로서, 기업 또는 조직 내의 다양한 문제를 구체적으로 정의하고 현재 수준을 계량화하고 평가한 다음 개선하고 이를 유지 관리하는 경영 기법이다. 원래 모토로라에서 개발된 일련의 품질 개선 방법이었으며 품질 불량의 원인을 찾아 해결해 내고자 하는 체계적인 방법론이었다. \n",
    "\n",
    "\n",
    "> 6 시그마는 모토로라가 등록한 상표이다. 시그마(σ)는 원래 정규분포에서 표준편차를 나타내며 6표준편차인 100만 개 중 3.4개의 불량률(Defects per million opportunities, DPMO)을 추구한다는 의미에서 나온 말이다. 실제로 ±6 시그마 수준은 100만 개중 0.002 개의 불량률로서, 6 시그마는 불량 제로를 추구하는 말이다. "
   ]
  },
  {
   "cell_type": "markdown",
   "metadata": {},
   "source": [
    "# 추측통계학"
   ]
  },
  {
   "cell_type": "markdown",
   "metadata": {},
   "source": [
    "## 추측 통계학"
   ]
  },
  {
   "cell_type": "markdown",
   "metadata": {},
   "source": [
    "## 불편추정"
   ]
  },
  {
   "cell_type": "markdown",
   "metadata": {},
   "source": [
    "## 자유도"
   ]
  },
  {
   "cell_type": "markdown",
   "metadata": {},
   "source": [
    "## 평균의 분포"
   ]
  },
  {
   "cell_type": "markdown",
   "metadata": {},
   "source": [
    "## 비율의 분포"
   ]
  },
  {
   "cell_type": "markdown",
   "metadata": {},
   "source": [
    "## 분산의 분포 - 표본통계량의 분포"
   ]
  },
  {
   "cell_type": "markdown",
   "metadata": {},
   "source": [
    "* 표본분산의 분포(sample variance distribution) - 표본(불편) 분산에 비례하는 통계량으로 변환하면 그 통계량은 자유도가 $n-1$ 의 $x^2$ 분포를 따른다\n",
    "\n",
    "> * 표본 분산 $s^2$이 따르는 확률분포는 없으므로, $x^2$ 분포를 따르도록 표본 분산 $s^2$, 또는 불편 분산 $\\hat{σ} ^2$과 비럐하는 통계량으로 변환한다\n",
    "> * **모분산**의 **구간추정** 이나 **검정**에서 이용한다"
   ]
  },
  {
   "cell_type": "markdown",
   "metadata": {},
   "source": [
    "> 표본분산은 $s^2$ 으로 표기하는데, 구하는 공식은 **편차의 제곱합을 자유도로 나눈 것**이다. 표본에서 자유도는 $n-1$이다."
   ]
  },
  {
   "cell_type": "markdown",
   "metadata": {},
   "source": [
    "> 표본분산을 통해 모집단의 분산을 추론할 수 있다\n",
    "> 그러기 위해서는 **표본분산**이 **모집단의 분산**과 어떤 **확률분포**를 하고 있는가를 알아야 한다."
   ]
  },
  {
   "cell_type": "markdown",
   "metadata": {},
   "source": [
    "> 그런데 모분산이 $σ^2$인 정규분포를 하는 모집단에서 표본크기가 $n$인 표본을 모두 뽑아 표본분산을 구하면, 표본분산 $s^2$ 은 자유도가 $n-1$인 $x^2$ 분포를 하는 것으로 알려져 있다."
   ]
  },
  {
   "cell_type": "markdown",
   "metadata": {},
   "source": [
    "> $x^2$ 는 $x^2(n-1)$으로 표시되고, 표본분산에 자유도 $n-1$를 곱한 것을 모분산으로 나눈것으로 정의된다."
   ]
  },
  {
   "cell_type": "markdown",
   "metadata": {},
   "source": [
    "> 그런데 $x^2$ 분포는 자유도에 따라 모양이 달라진다. 자유도가 커질수록 **즉 표본의 크기가 커질수록 정규분포**에 가까운 모양을 한다. \n",
    "\n",
    "> $x^2$ 분포에서의 확률계산은 $x^2$ 확률 분포표로 계산되어 있는데, 확률밀도함수에서 우측 모서리의 확률이 $σ$가 되는 $x^2$ 값을 나타낸다. \n",
    "> 즉 오른쪽 모서리 확률이 $σ$이고 자유도가 $n-1$일 때 $x^2(n-1, σ)$로 표시한다. "
   ]
  },
  {
   "cell_type": "markdown",
   "metadata": {},
   "source": [
    "> 표준분산 $S^2$ 와 비례하는 $X^2$ 통계량 = $n * s^2 \\over σ^2 $\n",
    "\n",
    "> or\n",
    "\n",
    "> 불편분산 $\\hat{σ}^2$ 과 비례하는 $X^2$ 통계량 = $(n -1) * \\hat{σ}^2 ) \\over σ^2$"
   ]
  },
  {
   "cell_type": "markdown",
   "metadata": {},
   "source": [
    "* $X^2(n-1)$ = $n * s^2 \\over σ^2 $  or $(n -1) * \\hat{σ}^2 ) \\over σ^2$"
   ]
  },
  {
   "cell_type": "markdown",
   "metadata": {},
   "source": [
    "## 상관계수의 분포"
   ]
  },
  {
   "cell_type": "markdown",
   "metadata": {
    "ExecuteTime": {
     "end_time": "2019-09-02T23:49:08.972939Z",
     "start_time": "2019-09-02T23:49:08.967680Z"
    }
   },
   "source": [
    "# 신뢰 구간의 추정"
   ]
  },
  {
   "cell_type": "markdown",
   "metadata": {
    "ExecuteTime": {
     "end_time": "2019-09-02T23:48:11.758162Z",
     "start_time": "2019-09-02T23:48:11.752927Z"
    }
   },
   "source": [
    "# 가설검정"
   ]
  },
  {
   "cell_type": "markdown",
   "metadata": {
    "ExecuteTime": {
     "end_time": "2019-09-02T23:48:37.438793Z",
     "start_time": "2019-09-02T23:48:37.436139Z"
    }
   },
   "source": [
    "# 분산분석과 다중비교"
   ]
  },
  {
   "cell_type": "markdown",
   "metadata": {
    "ExecuteTime": {
     "end_time": "2019-09-02T23:49:34.516405Z",
     "start_time": "2019-09-02T23:49:34.510821Z"
    }
   },
   "source": [
    "## 일원 배치 분산 분석"
   ]
  },
  {
   "cell_type": "markdown",
   "metadata": {},
   "source": [
    "## 여러 집단의 등분산 검정"
   ]
  },
  {
   "cell_type": "code",
   "execution_count": 9,
   "metadata": {
    "ExecuteTime": {
     "end_time": "2019-09-03T00:01:03.518969Z",
     "start_time": "2019-09-03T00:01:03.270286Z"
    }
   },
   "outputs": [
    {
     "name": "stderr",
     "output_type": "stream",
     "text": [
      "/home/ec2-user/anaconda3/envs/python3/lib/python3.6/site-packages/matplotlib/axes/_axes.py:6521: MatplotlibDeprecationWarning: \n",
      "The 'normed' kwarg was deprecated in Matplotlib 2.1 and will be removed in 3.1. Use 'density' instead.\n",
      "  alternative=\"'density'\", removal=\"3.1\")\n",
      "/home/ec2-user/anaconda3/envs/python3/lib/python3.6/site-packages/matplotlib/axes/_axes.py:6521: MatplotlibDeprecationWarning: \n",
      "The 'normed' kwarg was deprecated in Matplotlib 2.1 and will be removed in 3.1. Use 'density' instead.\n",
      "  alternative=\"'density'\", removal=\"3.1\")\n"
     ]
    },
    {
     "data": {
      "image/png": "[encoded data removed]",
      "text/plain": [
       "<Figure size 432x288 with 1 Axes>"
      ]
     },
     "metadata": {},
     "output_type": "display_data"
    }
   ],
   "source": [
    "import scipy as sp\n",
    "import numpy as np\n",
    "import seaborn as sns\n",
    "from matplotlib import pyplot as plt\n",
    "\n",
    "N1 = 100\n",
    "N2 = 100\n",
    "sigma_1 = 1\n",
    "sigma_2 = 1.2\n",
    "np.random.seed(0)\n",
    "x1 = sp.stats.norm(0, sigma_1).rvs(N1)\n",
    "x2 = sp.stats.norm(0, sigma_2).rvs(N2)\n",
    "ax = sns.distplot(x1, kde=False, fit=sp.stats.norm, label=\"1 data set\")\n",
    "ax = sns.distplot(x2, kde=False, fit=sp.stats.norm, label=\"2 data set\")\n",
    "ax.lines[0].set_linestyle(\":\")\n",
    "plt.legend()\n",
    "plt.show()"
   ]
  },
  {
   "cell_type": "code",
   "execution_count": 10,
   "metadata": {
    "ExecuteTime": {
     "end_time": "2019-09-02T23:56:16.812301Z",
     "start_time": "2019-09-02T23:56:16.808284Z"
    }
   },
   "outputs": [
    {
     "data": {
      "text/plain": [
       "(1.0078822447165796, 1.2416003969261071)"
      ]
     },
     "execution_count": 10,
     "metadata": {},
     "output_type": "execute_result"
    }
   ],
   "source": [
    "x1.std(), x2.std() #표준편차"
   ]
  },
  {
   "cell_type": "code",
   "execution_count": 11,
   "metadata": {
    "ExecuteTime": {
     "end_time": "2019-09-02T23:56:47.647092Z",
     "start_time": "2019-09-02T23:56:47.638462Z"
    }
   },
   "outputs": [
    {
     "data": {
      "text/plain": [
       "BartlettResult(statistic=4.253473837232266, pvalue=0.039170128783651344)"
      ]
     },
     "execution_count": 11,
     "metadata": {},
     "output_type": "execute_result"
    }
   ],
   "source": [
    "sp.stats.bartlett(x1, x2) # 바틀렛 검정"
   ]
  },
  {
   "cell_type": "code",
   "execution_count": 12,
   "metadata": {},
   "outputs": [
    {
     "data": {
      "text/plain": [
       "LeveneResult(statistic=7.680708947679437, pvalue=0.0061135154970207925)"
      ]
     },
     "execution_count": 12,
     "metadata": {},
     "output_type": "execute_result"
    }
   ],
   "source": [
    "sp.stats.levene(x1, x2) # 바틀렛 검정"
   ]
  },
  {
   "cell_type": "code",
   "execution_count": 52,
   "metadata": {
    "ExecuteTime": {
     "end_time": "2019-09-03T00:00:39.970843Z",
     "start_time": "2019-09-03T00:00:39.959273Z"
    }
   },
   "outputs": [
    {
     "name": "stdout",
     "output_type": "stream",
     "text": [
      "------------\n",
      "등분산 검정, p-value: 0.622\n",
      "등분산 검정, p-value: 0.000\n",
      "등분산 검정, p-value: 0.132\n"
     ]
    }
   ],
   "source": [
    "print(\"------------\")\n",
    "# 등분산 검정: 두 분포의 분산이 같은지 체크하는 검정 \n",
    "from scipy.stats import bartlett\n",
    "n = 5000\n",
    "x = np.random.normal(0, 4, n)  # 정규분포로부터 무작위 표본 추출(평균, 표준편차, 사이즈)\n",
    "\n",
    "ys = [np.random.normal(1, 4, n), \n",
    "      np.random.normal(1, 3.5, n), \n",
    "      np.random.normal(1, 4.1, n)\n",
    "     ]\n",
    "\n",
    "for y in ys:\n",
    "    print(\"등분산 검정, p-value: {:.3f}\".format(bartlett(x, y).pvalue))"
   ]
  },
  {
   "cell_type": "code",
   "execution_count": null,
   "metadata": {},
   "outputs": [],
   "source": []
  }
 ],
 "metadata": {
  "hide_input": false,
  "kernelspec": {
   "display_name": "conda_python3",
   "language": "python",
   "name": "conda_python3"
  },
  "language_info": {
   "codemirror_mode": {
    "name": "ipython",
    "version": 3
   },
   "file_extension": ".py",
   "mimetype": "text/x-python",
   "name": "python",
   "nbconvert_exporter": "python",
   "pygments_lexer": "ipython3",
   "version": "3.6.5"
  },
  "toc": {
   "base_numbering": 1,
   "nav_menu": {},
   "number_sections": true,
   "sideBar": true,
   "skip_h1_title": false,
   "title_cell": "Table of Contents",
   "title_sidebar": "Contents",
   "toc_cell": false,
   "toc_position": {
    "height": "calc(100% - 180px)",
    "left": "10px",
    "top": "150px",
    "width": "168.2px"
   },
   "toc_section_display": true,
   "toc_window_display": true
  },
  "varInspector": {
   "cols": {
    "lenName": 16,
    "lenType": 16,
    "lenVar": 40
   },
   "kernels_config": {
    "python": {
     "delete_cmd_postfix": "",
     "delete_cmd_prefix": "del ",
     "library": "var_list.py",
     "varRefreshCmd": "print(var_dic_list())"
    },
    "r": {
     "delete_cmd_postfix": ") ",
     "delete_cmd_prefix": "rm(",
     "library": "var_list.r",
     "varRefreshCmd": "cat(var_dic_list()) "
    }
   },
   "types_to_exclude": [
    "module",
    "function",
    "builtin_function_or_method",
    "instance",
    "_Feature"
   ],
   "window_display": false
  }
 },
 "nbformat": 4,
 "nbformat_minor": 2
}
